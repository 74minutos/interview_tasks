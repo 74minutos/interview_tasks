{
 "cells": [
  {
   "cell_type": "markdown",
   "metadata": {},
   "source": [
    "# Overview\n",
    "\n",
    "Choose whatever language you're most comfortable with to solve these problems.\n",
    "\n",
    "# Exercise\n",
    "\n",
    "The ACME inc. tool supply company manages its operations with 3 csv files:\n",
    "\n",
    "1. `customers.csv` keeps customer information:\n",
    "    * `id` is a numeric customer id\n",
    "    * `firstname` is the customer's first name\n",
    "    * `lastname` is the customer's last name\n",
    "2. `products.csv` keeps product info:\n",
    "    * `id` is a numeric product id\n",
    "    * `name` is the human-readable name\n",
    "    * `cost` is the product cost in euros\n",
    "3. `orders.csv` keeps order information:\n",
    "    * `id` is a numeric order id\n",
    "    * `customer` is the numeric id of the customer who created the order\n",
    "    * `products` is a space-separated list of product ids ordered by the customer\n",
    "\n",
    "Manually dealing with those files is hard and error-prone, and they've asked for your help writing some code to make their lives easier.\n",
    "\n",
    "### Task 3\n",
    "\n",
    "To evaluate our customers, we need a `customer_ranking.csv` containing the following columns, ranked in descending order by total_euros:\n",
    "* `id` numeric id of the customer\n",
    "* `firstname` customer first name\n",
    "* `lastname` customer last name\n",
    "* `total_euros` total euros this customer has spent on products"
   ]
  },
  {
   "cell_type": "code",
   "execution_count": 1,
   "metadata": {},
   "outputs": [],
   "source": [
    "import pandas as pd\n",
    "import numpy as np\n",
    "from collections import defaultdict"
   ]
  },
  {
   "cell_type": "code",
   "execution_count": 2,
   "metadata": {},
   "outputs": [],
   "source": [
    "customers = pd.read_csv('customers.csv')\n",
    "products = pd.read_csv('products.csv')\n",
    "orders = pd.read_csv('orders.csv')\n",
    "customers.rename(columns={'id':'customer'}, inplace=True)"
   ]
  },
  {
   "cell_type": "code",
   "execution_count": 3,
   "metadata": {},
   "outputs": [],
   "source": [
    "def split_by_space(products, customers):\n",
    "    orders_values = pd.DataFrame(products.str.split(' ').tolist(), index=customers).stack().reset_index()\n",
    "    orders_values.drop('level_1', axis=1, inplace=True)\n",
    "    orders_values.rename(columns={0:'id'}, inplace=True)\n",
    "    return orders_values\n",
    "\n",
    "def get_total_euros(splitted_data):\n",
    "    transformed = splitted_data.values.tolist()\n",
    "    intermediate_euros = defaultdict(list)\n",
    "    \n",
    "    for customer, last, first, euros in transformed:\n",
    "        intermediate_euros[(customer, last, first)].append(int(float(euros)))\n",
    "        \n",
    "    total_euros = {}\n",
    "    for key, cost in intermediate_euros.items():\n",
    "        total_euros[key] = sum(cost)\n",
    "    return pd.Series(total_euros).reset_index()"
   ]
  },
  {
   "cell_type": "code",
   "execution_count": 4,
   "metadata": {},
   "outputs": [],
   "source": [
    "products_splitted_by_customer = split_by_space(orders['products'], orders['customer'])"
   ]
  },
  {
   "cell_type": "code",
   "execution_count": 5,
   "metadata": {},
   "outputs": [],
   "source": [
    "products_splitted_by_customer_with_cost = pd.merge(products_splitted_by_customer.astype(str), products[['id', 'cost']].astype(str), on='id', how='left')"
   ]
  },
  {
   "cell_type": "code",
   "execution_count": 6,
   "metadata": {},
   "outputs": [],
   "source": [
    "products_splitted_by_customer_with_cost.drop('id', axis=1, inplace=True)\n",
    "customers_info_with_cost = pd.merge(customers.astype(str), products_splitted_by_customer_with_cost, on='customer', how='inner')"
   ]
  },
  {
   "cell_type": "code",
   "execution_count": 7,
   "metadata": {},
   "outputs": [],
   "source": [
    "customer_ranking = pd.DataFrame(get_total_euros(customers_info_with_cost)).rename(columns={'level_0':'customer_id', 'level_1':'firstname', 'level_2':'lastname', 0:'total_euros'}).sort_values(by='total_euros', ascending=False)"
   ]
  },
  {
   "cell_type": "code",
   "execution_count": 8,
   "metadata": {},
   "outputs": [],
   "source": [
    "customer_ranking.to_csv('customer_ranking.csv')"
   ]
  }
 ],
 "metadata": {
  "kernelspec": {
   "display_name": "Python 3",
   "language": "python",
   "name": "python3"
  },
  "language_info": {
   "codemirror_mode": {
    "name": "ipython",
    "version": 3
   },
   "file_extension": ".py",
   "mimetype": "text/x-python",
   "name": "python",
   "nbconvert_exporter": "python",
   "pygments_lexer": "ipython3",
   "version": "3.7.1"
  }
 },
 "nbformat": 4,
 "nbformat_minor": 2
}
