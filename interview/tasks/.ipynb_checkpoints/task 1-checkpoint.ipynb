{
 "cells": [
  {
   "cell_type": "code",
   "execution_count": 1,
   "metadata": {},
   "outputs": [],
   "source": [
    "import pandas as pd\n",
    "import numpy as np\n",
    "from collections import defaultdict"
   ]
  },
  {
   "cell_type": "markdown",
   "metadata": {},
   "source": [
    "# Overview\n",
    "\n",
    "Choose whatever language you're most comfortable with to solve these problems.\n",
    "\n",
    "# Exercise\n",
    "\n",
    "The ACME inc. tool supply company manages its operations with 3 csv files:\n",
    "\n",
    "1. `customers.csv` keeps customer information:\n",
    "    * `id` is a numeric customer id\n",
    "    * `firstname` is the customer's first name\n",
    "    * `lastname` is the customer's last name\n",
    "2. `products.csv` keeps product info:\n",
    "    * `id` is a numeric product id\n",
    "    * `name` is the human-readable name\n",
    "    * `cost` is the product cost in euros\n",
    "3. `orders.csv` keeps order information:\n",
    "    * `id` is a numeric order id\n",
    "    * `customer` is the numeric id of the customer who created the order\n",
    "    * `products` is a space-separated list of product ids ordered by the customer\n",
    "\n",
    "Manually dealing with those files is hard and error-prone, and they've asked for your help writing some code to make their lives easier.\n",
    "\n"
   ]
  },
  {
   "cell_type": "code",
   "execution_count": 2,
   "metadata": {},
   "outputs": [],
   "source": [
    "#loading and cleaning data\n",
    "customers = pd.read_csv('customers.csv')\n",
    "customers.rename(columns={'id':'customer_id'}, inplace=True)\n",
    "products = pd.read_csv('products.csv')\n",
    "products.rename(columns={'id':'products_id'}, inplace=True)\n",
    "orders = pd.read_csv('orders.csv')\n",
    "orders.rename(columns={'id':'order_id', 'customer':'customer_id', 'products':'products_id'}, inplace=True)"
   ]
  },
  {
   "cell_type": "markdown",
   "metadata": {},
   "source": [
    "### Task 1\n",
    "\n",
    "Right now the `orders.csv` doesn't have total order cost information.\n",
    "\n",
    "We need to use the data in these files to emit a `order_prices.csv` file with the following columns:\n",
    "* `id` the numeric id of the order\n",
    "* `euros` the total cost of the order\n"
   ]
  },
  {
   "cell_type": "code",
   "execution_count": 3,
   "metadata": {
    "scrolled": true
   },
   "outputs": [],
   "source": [
    "#we're going to make an example to identify the process\n",
    "input_example = pd.DataFrame({\n",
    "    'order_id':[0,0,0,0,1],\n",
    "    'products_id':['1 0','0','0','1','1'],\n",
    "    'customer_id':[1,0,2,3,4]\n",
    "})"
   ]
  },
  {
   "cell_type": "code",
   "execution_count": 4,
   "metadata": {},
   "outputs": [],
   "source": [
    "intermediate_example = pd.DataFrame({\n",
    "    'order_id':[0,0,0,0,0,1],\n",
    "    'products_id':[1,0,0,0,1,1],\n",
    "    'cost':[5,3,3,3,5,5]\n",
    "})"
   ]
  },
  {
   "cell_type": "code",
   "execution_count": 5,
   "metadata": {},
   "outputs": [],
   "source": [
    "output_example = pd.DataFrame({\n",
    "    'order_id':[0,1],\n",
    "    'cost':[19,5]\n",
    "})"
   ]
  },
  {
   "cell_type": "code",
   "execution_count": 6,
   "metadata": {},
   "outputs": [],
   "source": [
    "#denormalizing products from orders\n",
    "def splitting_by_space(list_of_spaces, index_order):\n",
    "    result = pd.DataFrame(list_of_spaces.str.split(' ').tolist(),index=index_order).stack().reset_index()\n",
    "    return result.drop('level_1', axis=1).rename(columns={0: 'products_id'})\n",
    "\n",
    "#getting cost per order\n",
    "def get_orders_prices(orders_data):\n",
    "    intermediate = orders_data.drop('products_id', axis=1)\n",
    "    output = intermediate.groupby('order_id').sum().reset_index()\n",
    "    output.rename(columns={'cost':'euros'})\n",
    "    return output"
   ]
  },
  {
   "cell_type": "code",
   "execution_count": 7,
   "metadata": {},
   "outputs": [],
   "source": [
    "from pandas.testing import assert_frame_equal\n",
    "output = get_orders_prices(intermediate_example)\n",
    "assert_frame_equal(output,output_example)"
   ]
  },
  {
   "cell_type": "code",
   "execution_count": 8,
   "metadata": {},
   "outputs": [],
   "source": [
    "orders_denormalize = splitting_by_space(orders['products_id'], orders['order_id'])"
   ]
  },
  {
   "cell_type": "code",
   "execution_count": 9,
   "metadata": {},
   "outputs": [],
   "source": [
    "orders_denormalize['products_id'] = orders_denormalize['products_id'].astype('int')"
   ]
  },
  {
   "cell_type": "code",
   "execution_count": 10,
   "metadata": {},
   "outputs": [
    {
     "data": {
      "text/html": [
       "<div>\n",
       "<style scoped>\n",
       "    .dataframe tbody tr th:only-of-type {\n",
       "        vertical-align: middle;\n",
       "    }\n",
       "\n",
       "    .dataframe tbody tr th {\n",
       "        vertical-align: top;\n",
       "    }\n",
       "\n",
       "    .dataframe thead th {\n",
       "        text-align: right;\n",
       "    }\n",
       "</style>\n",
       "<table border=\"1\" class=\"dataframe\">\n",
       "  <thead>\n",
       "    <tr style=\"text-align: right;\">\n",
       "      <th></th>\n",
       "      <th>order_id</th>\n",
       "      <th>products_id</th>\n",
       "      <th>cost</th>\n",
       "    </tr>\n",
       "  </thead>\n",
       "  <tbody>\n",
       "    <tr>\n",
       "      <th>0</th>\n",
       "      <td>0</td>\n",
       "      <td>1</td>\n",
       "      <td>6.490396</td>\n",
       "    </tr>\n",
       "    <tr>\n",
       "      <th>1</th>\n",
       "      <td>0</td>\n",
       "      <td>0</td>\n",
       "      <td>2.981164</td>\n",
       "    </tr>\n",
       "    <tr>\n",
       "      <th>2</th>\n",
       "      <td>0</td>\n",
       "      <td>1</td>\n",
       "      <td>6.490396</td>\n",
       "    </tr>\n",
       "    <tr>\n",
       "      <th>3</th>\n",
       "      <td>0</td>\n",
       "      <td>0</td>\n",
       "      <td>2.981164</td>\n",
       "    </tr>\n",
       "    <tr>\n",
       "      <th>4</th>\n",
       "      <td>1</td>\n",
       "      <td>0</td>\n",
       "      <td>2.981164</td>\n",
       "    </tr>\n",
       "  </tbody>\n",
       "</table>\n",
       "</div>"
      ],
      "text/plain": [
       "   order_id  products_id      cost\n",
       "0         0            1  6.490396\n",
       "1         0            0  2.981164\n",
       "2         0            1  6.490396\n",
       "3         0            0  2.981164\n",
       "4         1            0  2.981164"
      ]
     },
     "execution_count": 10,
     "metadata": {},
     "output_type": "execute_result"
    }
   ],
   "source": [
    "#merging to obtain cost per product\n",
    "orders_with_cost = pd.merge(orders_denormalize, products[['products_id', 'cost']], on='products_id', how='left')\n",
    "orders_with_cost.head()"
   ]
  },
  {
   "cell_type": "code",
   "execution_count": 11,
   "metadata": {},
   "outputs": [],
   "source": [
    "order_prices = get_orders_prices(orders_with_cost)"
   ]
  },
  {
   "cell_type": "code",
   "execution_count": 12,
   "metadata": {},
   "outputs": [],
   "source": [
    "#order_prices.to_csv('order_prices.csv', index=False)"
   ]
  }
 ],
 "metadata": {
  "kernelspec": {
   "display_name": "Python 3",
   "language": "python",
   "name": "python3"
  },
  "language_info": {
   "codemirror_mode": {
    "name": "ipython",
    "version": 3
   },
   "file_extension": ".py",
   "mimetype": "text/x-python",
   "name": "python",
   "nbconvert_exporter": "python",
   "pygments_lexer": "ipython3",
   "version": "3.7.1"
  }
 },
 "nbformat": 4,
 "nbformat_minor": 4
}
