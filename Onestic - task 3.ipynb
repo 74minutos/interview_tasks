{
 "cells": [
  {
   "cell_type": "code",
   "execution_count": 1,
   "metadata": {},
   "outputs": [],
   "source": [
    "import pandas as pd\n",
    "import numpy as np\n",
    "from collections import defaultdict\n",
    "from pandas._testing import assert_frame_equal"
   ]
  },
  {
   "cell_type": "markdown",
   "metadata": {},
   "source": [
    "# Overview\n",
    "\n",
    "Choose whatever language you're most comfortable with to solve these problems.\n",
    "\n",
    "# Exercise\n",
    "\n",
    "The ACME inc. tool supply company manages its operations with 3 csv files:\n",
    "\n",
    "1. `customers.csv` keeps customer information:\n",
    "    * `id` is a numeric customer id\n",
    "    * `firstname` is the customer's first name\n",
    "    * `lastname` is the customer's last name\n",
    "2. `products.csv` keeps product info:\n",
    "    * `id` is a numeric product id\n",
    "    * `name` is the human-readable name\n",
    "    * `cost` is the product cost in euros\n",
    "3. `orders.csv` keeps order information:\n",
    "    * `id` is a numeric order id\n",
    "    * `customer` is the numeric id of the customer who created the order\n",
    "    * `products` is a space-separated list of product ids ordered by the customer\n",
    "\n",
    "Manually dealing with those files is hard and error-prone, and they've asked for your help writing some code to make their lives easier.\n",
    "\n"
   ]
  },
  {
   "cell_type": "code",
   "execution_count": 11,
   "metadata": {},
   "outputs": [
    {
     "data": {
      "text/html": [
       "<div>\n",
       "<style scoped>\n",
       "    .dataframe tbody tr th:only-of-type {\n",
       "        vertical-align: middle;\n",
       "    }\n",
       "\n",
       "    .dataframe tbody tr th {\n",
       "        vertical-align: top;\n",
       "    }\n",
       "\n",
       "    .dataframe thead th {\n",
       "        text-align: right;\n",
       "    }\n",
       "</style>\n",
       "<table border=\"1\" class=\"dataframe\">\n",
       "  <thead>\n",
       "    <tr style=\"text-align: right;\">\n",
       "      <th></th>\n",
       "      <th>order_id</th>\n",
       "      <th>customer_id</th>\n",
       "      <th>products_id</th>\n",
       "    </tr>\n",
       "  </thead>\n",
       "  <tbody>\n",
       "    <tr>\n",
       "      <th>0</th>\n",
       "      <td>0</td>\n",
       "      <td>0</td>\n",
       "      <td>1 0 1 0</td>\n",
       "    </tr>\n",
       "    <tr>\n",
       "      <th>1</th>\n",
       "      <td>1</td>\n",
       "      <td>22</td>\n",
       "      <td>0 5 0 4 5 3 2 1 1</td>\n",
       "    </tr>\n",
       "    <tr>\n",
       "      <th>2</th>\n",
       "      <td>2</td>\n",
       "      <td>57</td>\n",
       "      <td>5 2 4</td>\n",
       "    </tr>\n",
       "    <tr>\n",
       "      <th>3</th>\n",
       "      <td>3</td>\n",
       "      <td>20</td>\n",
       "      <td>4 3 0 2 4</td>\n",
       "    </tr>\n",
       "    <tr>\n",
       "      <th>4</th>\n",
       "      <td>4</td>\n",
       "      <td>28</td>\n",
       "      <td>5 0 5 0 3 4</td>\n",
       "    </tr>\n",
       "  </tbody>\n",
       "</table>\n",
       "</div>"
      ],
      "text/plain": [
       "   order_id  customer_id        products_id\n",
       "0         0            0            1 0 1 0\n",
       "1         1           22  0 5 0 4 5 3 2 1 1\n",
       "2         2           57              5 2 4\n",
       "3         3           20          4 3 0 2 4\n",
       "4         4           28        5 0 5 0 3 4"
      ]
     },
     "execution_count": 11,
     "metadata": {},
     "output_type": "execute_result"
    }
   ],
   "source": [
    "#loading and cleaning data\n",
    "customers = pd.read_csv('interview/customers.csv')\n",
    "customers.rename(columns={'id':'customer_id'}, inplace=True)\n",
    "products = pd.read_csv('interview/products.csv')\n",
    "products.rename(columns={'id':'products_id'}, inplace=True)\n",
    "orders = pd.read_csv('interview/orders.csv')\n",
    "orders.rename(columns={'id':'order_id', 'customer':'customer_id', 'products':'products_id'}, inplace=True)\n",
    "orders.head()"
   ]
  },
  {
   "cell_type": "markdown",
   "metadata": {},
   "source": [
    "### Task 2\n",
    "\n",
    "The marketing department wants to know which customers are interested in each product; they've asked for a `product_customers.csv` file that, for each product, gives the list of customers who have purchased this product:\n",
    "* `id` numeric product id\n",
    "* `customer_ids` a space-separated list of customer ids of the customers who have purchased this product\n",
    "\n"
   ]
  },
  {
   "cell_type": "code",
   "execution_count": 3,
   "metadata": {
    "scrolled": true
   },
   "outputs": [
    {
     "data": {
      "text/plain": [
       "[[1, 0], [0, 0], [1, 0], [0, 0], [0, 1]]"
      ]
     },
     "execution_count": 3,
     "metadata": {},
     "output_type": "execute_result"
    }
   ],
   "source": [
    "#we're going to make an example to identify the process\n",
    "input_example = pd.DataFrame({\n",
    "    'products_id':[1,0,1,0,0],\n",
    "    'customer_id':[0,0,0,0,1],\n",
    "}).values.tolist()\n",
    "input_example"
   ]
  },
  {
   "cell_type": "code",
   "execution_count": 4,
   "metadata": {},
   "outputs": [
    {
     "data": {
      "text/html": [
       "<div>\n",
       "<style scoped>\n",
       "    .dataframe tbody tr th:only-of-type {\n",
       "        vertical-align: middle;\n",
       "    }\n",
       "\n",
       "    .dataframe tbody tr th {\n",
       "        vertical-align: top;\n",
       "    }\n",
       "\n",
       "    .dataframe thead th {\n",
       "        text-align: right;\n",
       "    }\n",
       "</style>\n",
       "<table border=\"1\" class=\"dataframe\">\n",
       "  <thead>\n",
       "    <tr style=\"text-align: right;\">\n",
       "      <th></th>\n",
       "      <th>products_id</th>\n",
       "      <th>customer_id</th>\n",
       "    </tr>\n",
       "  </thead>\n",
       "  <tbody>\n",
       "    <tr>\n",
       "      <th>0</th>\n",
       "      <td>0</td>\n",
       "      <td>0 1</td>\n",
       "    </tr>\n",
       "    <tr>\n",
       "      <th>1</th>\n",
       "      <td>1</td>\n",
       "      <td>0</td>\n",
       "    </tr>\n",
       "  </tbody>\n",
       "</table>\n",
       "</div>"
      ],
      "text/plain": [
       "   products_id customer_id\n",
       "0            0         0 1\n",
       "1            1           0"
      ]
     },
     "execution_count": 4,
     "metadata": {},
     "output_type": "execute_result"
    }
   ],
   "source": [
    "output_example = pd.DataFrame({\n",
    "    'products_id':[0,1],\n",
    "    'customer_id': ['0 1','0']\n",
    "})\n",
    "output_example"
   ]
  },
  {
   "cell_type": "code",
   "execution_count": 5,
   "metadata": {
    "scrolled": true
   },
   "outputs": [],
   "source": [
    "def convert_to_list_spaces(list_of_commas):\n",
    "    return ' '.join((list_of_commas))\n",
    "\n",
    "def get_customers_by_product_id(products_and_customers):\n",
    "    products = defaultdict(list)\n",
    "    \n",
    "    for product, customer in products_and_customers:\n",
    "        if str(customer) not in products[product]:\n",
    "            products[product].append(str(customer))\n",
    "    \n",
    "    customers_by_product_id = {}\n",
    "    for product, customer in products.items():\n",
    "        customers_by_product_id[product] = convert_to_list_spaces(customer) \n",
    "    return pd.DataFrame(customers_by_product_id.items(), columns=['products_id', 'customer_id']).sort_values(by=['products_id']).reset_index(drop=True)\n"
   ]
  },
  {
   "cell_type": "code",
   "execution_count": 6,
   "metadata": {
    "scrolled": true
   },
   "outputs": [
    {
     "data": {
      "text/html": [
       "<div>\n",
       "<style scoped>\n",
       "    .dataframe tbody tr th:only-of-type {\n",
       "        vertical-align: middle;\n",
       "    }\n",
       "\n",
       "    .dataframe tbody tr th {\n",
       "        vertical-align: top;\n",
       "    }\n",
       "\n",
       "    .dataframe thead th {\n",
       "        text-align: right;\n",
       "    }\n",
       "</style>\n",
       "<table border=\"1\" class=\"dataframe\">\n",
       "  <thead>\n",
       "    <tr style=\"text-align: right;\">\n",
       "      <th></th>\n",
       "      <th>products_id</th>\n",
       "      <th>customer_id</th>\n",
       "    </tr>\n",
       "  </thead>\n",
       "  <tbody>\n",
       "    <tr>\n",
       "      <th>0</th>\n",
       "      <td>0</td>\n",
       "      <td>0 1</td>\n",
       "    </tr>\n",
       "    <tr>\n",
       "      <th>1</th>\n",
       "      <td>1</td>\n",
       "      <td>0</td>\n",
       "    </tr>\n",
       "  </tbody>\n",
       "</table>\n",
       "</div>"
      ],
      "text/plain": [
       "   products_id customer_id\n",
       "0            0         0 1\n",
       "1            1           0"
      ]
     },
     "execution_count": 6,
     "metadata": {},
     "output_type": "execute_result"
    }
   ],
   "source": [
    "output = get_customers_by_product_id(input_example)\n",
    "output"
   ]
  },
  {
   "cell_type": "code",
   "execution_count": 7,
   "metadata": {},
   "outputs": [],
   "source": [
    "assert_frame_equal(output,output_example)"
   ]
  },
  {
   "cell_type": "code",
   "execution_count": 15,
   "metadata": {},
   "outputs": [],
   "source": [
    "#denormalizing products from orders\n",
    "orders_denormalize = pd.DataFrame(orders['products_id'].str.split(' ').tolist(),index=orders.customer_id).stack()\n",
    "orders_denormalize = orders_denormalize.reset_index([0,'customer_id'])\n",
    "orders_denormalize.columns = ['customer_id', 'products_id']\n",
    "orders_denormalize['products_id'] = orders_denormalize['products_id'].astype('int')\n",
    "orders_denormalize = orders_denormalize[['products_id', 'customer_id']]\n",
    "orders_denormalize = orders_denormalize.values.tolist()"
   ]
  },
  {
   "cell_type": "code",
   "execution_count": 16,
   "metadata": {},
   "outputs": [],
   "source": [
    "product_customers = get_customers_by_product_id(orders_denormalize)"
   ]
  },
  {
   "cell_type": "code",
   "execution_count": 17,
   "metadata": {},
   "outputs": [],
   "source": [
    "product_customers.to_csv('product_customers.csv', index=False)"
   ]
  },
  {
   "cell_type": "code",
   "execution_count": 18,
   "metadata": {},
   "outputs": [
    {
     "data": {
      "text/html": [
       "<div>\n",
       "<style scoped>\n",
       "    .dataframe tbody tr th:only-of-type {\n",
       "        vertical-align: middle;\n",
       "    }\n",
       "\n",
       "    .dataframe tbody tr th {\n",
       "        vertical-align: top;\n",
       "    }\n",
       "\n",
       "    .dataframe thead th {\n",
       "        text-align: right;\n",
       "    }\n",
       "</style>\n",
       "<table border=\"1\" class=\"dataframe\">\n",
       "  <thead>\n",
       "    <tr style=\"text-align: right;\">\n",
       "      <th></th>\n",
       "      <th>products_id</th>\n",
       "      <th>customer_id</th>\n",
       "    </tr>\n",
       "  </thead>\n",
       "  <tbody>\n",
       "    <tr>\n",
       "      <th>0</th>\n",
       "      <td>0</td>\n",
       "      <td>0 22 20 28 40 32 5 45 37 38 6 44 50 24 54 59 1...</td>\n",
       "    </tr>\n",
       "    <tr>\n",
       "      <th>1</th>\n",
       "      <td>1</td>\n",
       "      <td>0 22 40 32 45 38 51 6 44 34 3 50 24 15 5 41 47...</td>\n",
       "    </tr>\n",
       "    <tr>\n",
       "      <th>2</th>\n",
       "      <td>2</td>\n",
       "      <td>22 57 20 40 5 45 37 51 6 44 54 8 15 21 41 48 4...</td>\n",
       "    </tr>\n",
       "    <tr>\n",
       "      <th>3</th>\n",
       "      <td>3</td>\n",
       "      <td>22 20 28 32 5 38 51 34 50 24 54 21 41 47 46 44...</td>\n",
       "    </tr>\n",
       "    <tr>\n",
       "      <th>4</th>\n",
       "      <td>4</td>\n",
       "      <td>22 57 20 28 51 24 59 36 8 15 21 5 34 19 41 44 ...</td>\n",
       "    </tr>\n",
       "    <tr>\n",
       "      <th>5</th>\n",
       "      <td>5</td>\n",
       "      <td>22 57 28 32 5 37 38 6 44 34 3 50 24 54 59 15 2...</td>\n",
       "    </tr>\n",
       "  </tbody>\n",
       "</table>\n",
       "</div>"
      ],
      "text/plain": [
       "   products_id                                        customer_id\n",
       "0            0  0 22 20 28 40 32 5 45 37 38 6 44 50 24 54 59 1...\n",
       "1            1  0 22 40 32 45 38 51 6 44 34 3 50 24 15 5 41 47...\n",
       "2            2  22 57 20 40 5 45 37 51 6 44 54 8 15 21 41 48 4...\n",
       "3            3  22 20 28 32 5 38 51 34 50 24 54 21 41 47 46 44...\n",
       "4            4  22 57 20 28 51 24 59 36 8 15 21 5 34 19 41 44 ...\n",
       "5            5  22 57 28 32 5 37 38 6 44 34 3 50 24 54 59 15 2..."
      ]
     },
     "execution_count": 18,
     "metadata": {},
     "output_type": "execute_result"
    }
   ],
   "source": [
    "product_customers"
   ]
  },
  {
   "cell_type": "code",
   "execution_count": null,
   "metadata": {},
   "outputs": [],
   "source": []
  }
 ],
 "metadata": {
  "kernelspec": {
   "display_name": "Python 3",
   "language": "python",
   "name": "python3"
  },
  "language_info": {
   "codemirror_mode": {
    "name": "ipython",
    "version": 3
   },
   "file_extension": ".py",
   "mimetype": "text/x-python",
   "name": "python",
   "nbconvert_exporter": "python",
   "pygments_lexer": "ipython3",
   "version": "3.8.5"
  }
 },
 "nbformat": 4,
 "nbformat_minor": 4
}
